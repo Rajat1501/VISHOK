{
 "cells": [
  {
   "cell_type": "code",
   "execution_count": 1,
   "id": "1e37c759",
   "metadata": {},
   "outputs": [
    {
     "name": "stdout",
     "output_type": "stream",
     "text": [
      "Embeddings extraction and normalization complete!\n"
     ]
    }
   ],
   "source": [
    "import torch\n",
    "import os\n",
    "from PIL import Image\n",
    "from facenet_pytorch import InceptionResnetV1\n",
    "import numpy as np\n",
    "from sklearn.preprocessing import normalize\n",
    "from torchvision import transforms  # Importing the necessary transforms\n",
    "\n",
    "dataset_path = \"/Users/rajataggarwal/Desktop/dataset\"\n",
    "device = torch.device('cuda' if torch.cuda.is_available() else 'cpu')\n",
    "model = InceptionResnetV1(pretrained='vggface2').eval().to(device)\n",
    "\n",
    "# Define a transform pipeline (only resize and convert to tensor)\n",
    "transform = transforms.Compose([\n",
    "    transforms.Resize((160, 160)),  # Resizing using transforms\n",
    "    transforms.ToTensor(),  # Converting to tensor and scaling the pixel values between [0, 1]\n",
    "])\n",
    "\n",
    "embeddings_list = []\n",
    "name_list = []\n",
    "\n",
    "for person_name in os.listdir(dataset_path):\n",
    "    person_folder = os.path.join(dataset_path, person_name)\n",
    "    if not os.path.isdir(person_folder):\n",
    "        continue\n",
    "\n",
    "    for image_name in os.listdir(person_folder):\n",
    "        if not image_name.lower().endswith(('.jpg', '.jpeg', '.png')):\n",
    "            continue\n",
    "        image_path = os.path.join(person_folder, image_name)\n",
    "        try:\n",
    "            img = Image.open(image_path).convert('RGB')\n",
    "            img_tensor = transform(img).unsqueeze(0).to(device)  # Applying the transform\n",
    "            with torch.no_grad():\n",
    "                embedding = model(img_tensor).squeeze().cpu().numpy()\n",
    "                embeddings_list.append(embedding)\n",
    "                name_list.append(person_name)\n",
    "        except Exception as e:\n",
    "            print(f\"Failed to process {image_path}: {e}\")\n",
    "\n",
    "# Normalize embeddings (L2 normalization)\n",
    "embeddings_array = np.array(embeddings_list)\n",
    "normalized_embeddings = normalize(embeddings_array, axis=1)\n",
    "normalized_embeddings = normalized_embeddings.astype(np.float32)\n",
    "# Save normalized embeddings and names\n",
    "np.savez_compressed(f\"{dataset_path}/embeddings.npz\", embeddings=normalized_embeddings, names=name_list)\n",
    "\n",
    "print(\"Embeddings extraction and normalization complete!\")\n"
   ]
  }
 ],
 "metadata": {
  "kernelspec": {
   "display_name": "Python 3",
   "language": "python",
   "name": "python3"
  },
  "language_info": {
   "codemirror_mode": {
    "name": "ipython",
    "version": 3
   },
   "file_extension": ".py",
   "mimetype": "text/x-python",
   "name": "python",
   "nbconvert_exporter": "python",
   "pygments_lexer": "ipython3",
   "version": "3.8.19"
  }
 },
 "nbformat": 4,
 "nbformat_minor": 5
}
